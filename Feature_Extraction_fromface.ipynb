{
 "cells": [
  {
   "cell_type": "code",
   "execution_count": 1,
   "id": "6f306774",
   "metadata": {},
   "outputs": [],
   "source": [
    "import numpy as np\n",
    "import cv2\n",
    "import dlib\n",
    "from imutils import face_utils"
   ]
  },
  {
   "cell_type": "code",
   "execution_count": 2,
   "id": "2f274a40",
   "metadata": {},
   "outputs": [],
   "source": [
    "img=cv2.imread('./girl.png')\n",
    "cv2.imshow('girlmwa',img)\n",
    "cv2.waitKey(0)\n",
    "cv2.destroyAllWindows()"
   ]
  },
  {
   "cell_type": "code",
   "execution_count": 3,
   "id": "70a47eef",
   "metadata": {},
   "outputs": [],
   "source": [
    "#shape predictor and face descriptor \n",
    "shape_predictor= dlib.shape_predictor('./models/shape_predictor_68_face_landmarks.dat')\n",
    "shape_descriptor=dlib.face_recognition_model_v1('./models/dlib_face_recognition_resnet_model_v1.dat')"
   ]
  },
  {
   "cell_type": "code",
   "execution_count": 9,
   "id": "55077d55",
   "metadata": {},
   "outputs": [],
   "source": [
    "#step1 Face detection\n",
    "image=img.copy()\n",
    "face_detector=dlib.get_frontal_face_detector()\n",
    "face=face_detector(image)\n",
    "#print(face)\n",
    "for box in face:\n",
    "    p1=box.left(),box.top()\n",
    "    p2=box.right(),box.bottom()\n",
    "    \n",
    "    face_shape=shape_predictor(image,box)\n",
    "    face_shape_array=face_utils.shape_to_np(face_shape)\n",
    "    face_descriptor=shape_descriptor.compute_face_descriptor(image,face_shape)\n",
    "    #print(face_shape_array)\n",
    "    \n",
    "    for points in face_shape_array:\n",
    "        cv2.circle(image,tuple(points),3,(0,255,0),-1)\n",
    "    cv2.rectangle(image,p1,p2,(0,255,255))\n",
    "cv2.imshow('girl face dete',image)\n",
    "cv2.waitKey(0)\n",
    "cv2.destroyAllWindows()"
   ]
  },
  {
   "cell_type": "code",
   "execution_count": 12,
   "id": "78484553",
   "metadata": {},
   "outputs": [
    {
     "data": {
      "text/plain": [
       "128"
      ]
     },
     "execution_count": 12,
     "metadata": {},
     "output_type": "execute_result"
    }
   ],
   "source": [
    "len(np.array(face_descriptor))"
   ]
  },
  {
   "cell_type": "code",
   "execution_count": null,
   "id": "23bd42c5",
   "metadata": {},
   "outputs": [],
   "source": []
  }
 ],
 "metadata": {
  "kernelspec": {
   "display_name": "Python 3 (ipykernel)",
   "language": "python",
   "name": "python3"
  },
  "language_info": {
   "codemirror_mode": {
    "name": "ipython",
    "version": 3
   },
   "file_extension": ".py",
   "mimetype": "text/x-python",
   "name": "python",
   "nbconvert_exporter": "python",
   "pygments_lexer": "ipython3",
   "version": "3.9.13"
  }
 },
 "nbformat": 4,
 "nbformat_minor": 5
}
