{
 "cells": [
  {
   "cell_type": "code",
   "execution_count": 1,
   "id": "f68d3b34",
   "metadata": {},
   "outputs": [],
   "source": [
    "import numpy as np\n",
    "import cv2"
   ]
  },
  {
   "cell_type": "code",
   "execution_count": 10,
   "id": "bc680e4a",
   "metadata": {},
   "outputs": [],
   "source": [
    "img = cv2.imread('./images/friends.jpg')\n",
    "cv2.imshow('faces',img)\n",
    "cv2.waitKey(0)\n",
    "cv2.destroyAllWindows()"
   ]
  },
  {
   "cell_type": "code",
   "execution_count": 3,
   "id": "9139d13c",
   "metadata": {},
   "outputs": [],
   "source": [
    "# Load the model\n",
    "net=cv2.dnn.readNetFromCaffe('./models/deploy.prototxt','./models/res10_300x300_ssd_iter_140000_fp16.caffemodel')"
   ]
  },
  {
   "cell_type": "code",
   "execution_count": 4,
   "id": "58aafb30",
   "metadata": {},
   "outputs": [],
   "source": [
    "#extract blob  \n",
    "blob=cv2.dnn.blobFromImage(img,1,(300,300),(104,177,123),swapRB=False)#bgr"
   ]
  },
  {
   "cell_type": "code",
   "execution_count": 5,
   "id": "24666dc9",
   "metadata": {},
   "outputs": [],
   "source": [
    "net.setInput(blob)\n",
    "\n",
    "detections=net.forward()"
   ]
  },
  {
   "cell_type": "code",
   "execution_count": 6,
   "id": "137d9082",
   "metadata": {},
   "outputs": [
    {
     "data": {
      "text/plain": [
       "(1, 1, 200, 7)"
      ]
     },
     "execution_count": 6,
     "metadata": {},
     "output_type": "execute_result"
    }
   ],
   "source": [
    "detections.shape"
   ]
  },
  {
   "cell_type": "code",
   "execution_count": 11,
   "id": "59f1f449",
   "metadata": {},
   "outputs": [
    {
     "name": "stdout",
     "output_type": "stream",
     "text": [
      "[267  79 347 189]\n",
      "[132 101 209 206]\n",
      "[420  87 497 192]\n"
     ]
    }
   ],
   "source": [
    "h,w=img.shape[:2]\n",
    "for i in range(0,detections.shape[2]):\n",
    "    confidence=detections[0,0,i,2]\n",
    "    if confidence>=0.5:\n",
    "        #print(confidence)\n",
    "        #box (3:7)\n",
    "        box=detections[0,0,i,3:7]# normalised bondung box values\n",
    "        box=box*np.array([w,h,w,h])\n",
    "        box=box.astype(int)\n",
    "        print(box)\n",
    "        startx,starty,endx,endy=box\n",
    "        cv2.rectangle(img,(startx,starty),(endx,endy),(0,255,0))\n",
    "        #text\n",
    "        text='Face: {:.2f} %'.format(confidence*100)\n",
    "        cv2.putText(img,text,(startx,starty-12),cv2.FONT_HERSHEY_PLAIN,1,(255,255,0))\n",
    "cv2.imshow('face detec',img)\n",
    "cv2.waitKey(0)\n",
    "cv2.destroyAllWindows()"
   ]
  },
  {
   "cell_type": "code",
   "execution_count": null,
   "id": "e975e617",
   "metadata": {},
   "outputs": [],
   "source": []
  },
  {
   "cell_type": "code",
   "execution_count": null,
   "id": "93cf5985",
   "metadata": {},
   "outputs": [],
   "source": []
  }
 ],
 "metadata": {
  "kernelspec": {
   "display_name": "Python 3 (ipykernel)",
   "language": "python",
   "name": "python3"
  },
  "language_info": {
   "codemirror_mode": {
    "name": "ipython",
    "version": 3
   },
   "file_extension": ".py",
   "mimetype": "text/x-python",
   "name": "python",
   "nbconvert_exporter": "python",
   "pygments_lexer": "ipython3",
   "version": "3.9.13"
  }
 },
 "nbformat": 4,
 "nbformat_minor": 5
}
